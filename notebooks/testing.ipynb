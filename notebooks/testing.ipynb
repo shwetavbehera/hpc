{
 "cells": [
  {
   "cell_type": "code",
   "execution_count": 3,
   "id": "9e94f67d",
   "metadata": {},
   "outputs": [],
   "source": [
    "import numpy as np\n",
    "import math\n",
    "import matplotlib.pyplot as plt\n",
    "import matplotlib\n",
    "import scipy.io as io\n",
    "import glob\n",
    "import sys\n",
    "import os\n",
    "import gc\n",
    "\n",
    "root_dir = os.path.abspath(os.path.join(os.getcwd(), \"..\"))\n",
    "if root_dir not in sys.path:\n",
    "    sys.path.append(root_dir)\n",
    "\n",
    "from src.dn2dem_pos import dn2dem_pos\n",
    "\n",
    "import astropy.time as atime\n",
    "from astropy.coordinates import SkyCoord\n",
    "from astropy import units as u\n",
    "import sunpy.map\n",
    "\n",
    "from aiapy.calibrate import degradation\n",
    "from aiapy.calibrate.util import get_correction_table\n",
    "from aiapy.calibrate import register, update_pointing\n",
    "\n",
    "\n",
    "import warnings\n",
    "warnings.simplefilter('ignore')\n",
    "matplotlib.rcParams['font.size'] = 16\n",
    "\n",
    "from sunpy.net import Fido, attrs as a"
   ]
  },
  {
   "cell_type": "code",
   "execution_count": 4,
   "id": "28e71133",
   "metadata": {},
   "outputs": [],
   "source": [
    "module_path = os.path.abspath(os.path.join('..'))\n",
    "if module_path not in sys.path:\n",
    "    sys.path.append(module_path)"
   ]
  },
  {
   "cell_type": "code",
   "execution_count": 103,
   "id": "c3804fe3",
   "metadata": {},
   "outputs": [],
   "source": [
    "# Can either get the example data via fido/vso or adapt the example to your own AIA data set\n",
    "from sunpy.net import Fido, attrs as a\n",
    "\n",
    "# Only want the 6 coronal channels - this might also download 304A\n",
    "wvsrch=a.Wavelength(94*u.angstrom, 335*u.angstrom)\n",
    "\n",
    "result = Fido.search(a.Time('2024-11-03T12:15:09', '2024-11-03T12:15:19'), a.Instrument(\"aia\"), wvsrch)\n"
   ]
  },
  {
   "cell_type": "code",
   "execution_count": 22,
   "id": "54f4c0c1",
   "metadata": {},
   "outputs": [],
   "source": [
    "# Can either get the example data via fido/vso or adapt the example to your own AIA data set\n",
    "from sunpy.net import Fido, attrs as a\n",
    "\n",
    "# Only want the 6 coronal channels - this might also download 304A\n",
    "wvsrch=a.Wavelength(94*u.angstrom, 335*u.angstrom)\n",
    "\n",
    "result = Fido.search(a.Time('2021-11-03T12:15:09', '2021-11-03T12:15:19'), a.Instrument(\"aia\"), wvsrch)"
   ]
  },
  {
   "cell_type": "code",
   "execution_count": 24,
   "id": "5110f179",
   "metadata": {},
   "outputs": [
    {
     "name": "stderr",
     "output_type": "stream",
     "text": [
      "Files Downloaded:   0%|          | 0/7 [03:01<?, ?file/s]2025-10-07 09:21:07 - parfive - INFO: https://sdo7.nascom.nasa.gov/cgi-bin/drms_export.cgi?series=aia__lev1;compress=rice;record=171_1415016947-1415016947 failed to download with exception\n",
      "Timeout on reading data from socket\n",
      "2025-10-07 09:21:07 - parfive - INFO: https://sdo7.nascom.nasa.gov/cgi-bin/drms_export.cgi?series=aia__lev1;compress=rice;record=211_1415016948-1415016948 failed to download with exception\n",
      "Timeout on reading data from socket\n",
      "2025-10-07 09:21:07 - parfive - INFO: https://sdo7.nascom.nasa.gov/cgi-bin/drms_export.cgi?series=aia__lev1;compress=rice;record=94_1415016950-1415016950 failed to download with exception\n",
      "Timeout on reading data from socket\n",
      "2025-10-07 09:21:07 - parfive - INFO: https://sdo7.nascom.nasa.gov/cgi-bin/drms_export.cgi?series=aia__lev1;compress=rice;record=335_1415016951-1415016951 failed to download with exception\n",
      "Timeout on reading data from socket\n",
      "2025-10-07 09:21:07 - parfive - INFO: https://sdo7.nascom.nasa.gov/cgi-bin/drms_export.cgi?series=aia__lev1;compress=rice;record=193_1415016955-1415016955 failed to download with exception\n",
      "Timeout on reading data from socket\n",
      "2025-10-07 09:21:07 - parfive - INFO: https://sdo7.nascom.nasa.gov/cgi-bin/drms_export.cgi?series=aia__lev1;compress=rice;record=304_1415016956-1415016956 failed to download with exception\n",
      "Timeout on reading data from socket\n",
      "2025-10-07 09:21:07 - parfive - INFO: https://sdo7.nascom.nasa.gov/cgi-bin/drms_export.cgi?series=aia__lev1;compress=rice;record=131_1415016957-1415016957 failed to download with exception\n",
      "Timeout on reading data from socket\n",
      "Files Downloaded:   0%|          | 0/7 [03:01<?, ?file/s]"
     ]
    },
    {
     "name": "stdout",
     "output_type": "stream",
     "text": [
      "7/0 files failed to download. Please check `.errors` for details\n"
     ]
    },
    {
     "name": "stderr",
     "output_type": "stream",
     "text": [
      "\n"
     ]
    }
   ],
   "source": [
    "files = Fido.fetch(result, path='/home/shwetav/OneDrive/Documents/GitHub/hpc/data_21')"
   ]
  },
  {
   "cell_type": "code",
   "execution_count": 5,
   "id": "20066a73",
   "metadata": {},
   "outputs": [
    {
     "name": "stdout",
     "output_type": "stream",
     "text": [
      "['/home/shwetav/OneDrive/Documents/GitHub/hpc/data/aia.lev1.131A_2024_11_03T12_15_18.64Z.image_lev1.fits', '/home/shwetav/OneDrive/Documents/GitHub/hpc/data/aia.lev1.171A_2024_11_03T12_15_09.35Z.image_lev1.fits', '/home/shwetav/OneDrive/Documents/GitHub/hpc/data/aia.lev1.193A_2024_11_03T12_15_18.81Z.image_lev1.fits', '/home/shwetav/OneDrive/Documents/GitHub/hpc/data/aia.lev1.211A_2024_11_03T12_15_09.63Z.image_lev1.fits', '/home/shwetav/OneDrive/Documents/GitHub/hpc/data/aia.lev1.304A_2024_11_03T12_15_17.13Z.image_lev1.fits', '/home/shwetav/OneDrive/Documents/GitHub/hpc/data/aia.lev1.335A_2024_11_03T12_15_12.63Z.image_lev1.fits', '/home/shwetav/OneDrive/Documents/GitHub/hpc/data/aia.lev1.94A_2024_11_03T12_15_11.12Z.image_lev1.fits']\n"
     ]
    }
   ],
   "source": [
    "# Load in our AIA files for prep\n",
    "ff=sorted(glob.glob('/home/shwetav/OneDrive/Documents/GitHub/hpc/data/'+'aia*.fits'))\n",
    "print(ff)"
   ]
  },
  {
   "cell_type": "code",
   "execution_count": 14,
   "id": "68af5cbb",
   "metadata": {},
   "outputs": [
    {
     "ename": "RuntimeError",
     "evalue": "No data found for this query: aia.master_pointing3h[2024-11-03T12:15:09.000Z-2024-11-03T12:15:19.000Z], key: **ALL**, seg: None",
     "output_type": "error",
     "traceback": [
      "\u001b[31m---------------------------------------------------------------------------\u001b[39m",
      "\u001b[31mRuntimeError\u001b[39m                              Traceback (most recent call last)",
      "\u001b[36mCell\u001b[39m\u001b[36m \u001b[39m\u001b[32mIn[14]\u001b[39m\u001b[32m, line 5\u001b[39m\n\u001b[32m      2\u001b[39m \u001b[38;5;28;01mfrom\u001b[39;00m\u001b[38;5;250m \u001b[39m\u001b[34;01msunpy\u001b[39;00m\u001b[34;01m.\u001b[39;00m\u001b[34;01mtime\u001b[39;00m\u001b[38;5;250m \u001b[39m\u001b[38;5;28;01mimport\u001b[39;00m TimeRange\n\u001b[32m      4\u001b[39m timerange = TimeRange(\u001b[33m'\u001b[39m\u001b[33m2024-11-03T12:15:09\u001b[39m\u001b[33m'\u001b[39m, \u001b[33m'\u001b[39m\u001b[33m2024-11-03T12:15:19\u001b[39m\u001b[33m'\u001b[39m)\n\u001b[32m----> \u001b[39m\u001b[32m5\u001b[39m pointing_table = \u001b[43mget_pointing_table\u001b[49m\u001b[43m(\u001b[49m\u001b[33;43m'\u001b[39;49m\u001b[33;43mjsoc\u001b[39;49m\u001b[33;43m'\u001b[39;49m\u001b[43m,\u001b[49m\u001b[43m \u001b[49m\u001b[43mtime_range\u001b[49m\u001b[43m=\u001b[49m\u001b[43mtimerange\u001b[49m\u001b[43m)\u001b[49m\n",
      "\u001b[36mFile \u001b[39m\u001b[32m~/OneDrive/Documents/GitHub/hpc/.venv/lib/python3.12/site-packages/aiapy/calibrate/util.py:253\u001b[39m, in \u001b[36mget_pointing_table\u001b[39m\u001b[34m(source, time_range)\u001b[39m\n\u001b[32m    250\u001b[39m         \u001b[38;5;28;01mraise\u001b[39;00m \u001b[38;5;167;01mValueError\u001b[39;00m(msg)\n\u001b[32m    251\u001b[39m     start, end = _get_time(time_range)\n\u001b[32m    252\u001b[39m     table = QTable.from_pandas(\n\u001b[32m--> \u001b[39m\u001b[32m253\u001b[39m         \u001b[43m_get_data_from_jsoc\u001b[49m\u001b[43m(\u001b[49m\u001b[43mquery\u001b[49m\u001b[43m=\u001b[49m\u001b[33;43mf\u001b[39;49m\u001b[33;43m\"\u001b[39;49m\u001b[33;43maia.master_pointing3h[\u001b[39;49m\u001b[38;5;132;43;01m{\u001b[39;49;00m\u001b[43mstart\u001b[49m\u001b[43m.\u001b[49m\u001b[43misot\u001b[49m\u001b[38;5;132;43;01m}\u001b[39;49;00m\u001b[33;43mZ-\u001b[39;49m\u001b[38;5;132;43;01m{\u001b[39;49;00m\u001b[43mend\u001b[49m\u001b[43m.\u001b[49m\u001b[43misot\u001b[49m\u001b[38;5;132;43;01m}\u001b[39;49;00m\u001b[33;43mZ]\u001b[39;49m\u001b[33;43m\"\u001b[39;49m\u001b[43m,\u001b[49m\u001b[43m \u001b[49m\u001b[43mkey\u001b[49m\u001b[43m=\u001b[49m\u001b[33;43m\"\u001b[39;49m\u001b[33;43m**ALL**\u001b[39;49m\u001b[33;43m\"\u001b[39;49m\u001b[43m)\u001b[49m\n\u001b[32m    254\u001b[39m     )\n\u001b[32m    255\u001b[39m \u001b[38;5;28;01melif\u001b[39;00m source.lower() == \u001b[33m\"\u001b[39m\u001b[33mlmsal\u001b[39m\u001b[33m\"\u001b[39m:\n\u001b[32m    256\u001b[39m     table = QTable(astropy_ascii.read(_fetch_pointing_table()))\n",
      "\u001b[36mFile \u001b[39m\u001b[32m~/OneDrive/Documents/GitHub/hpc/.venv/lib/python3.12/site-packages/aiapy/util/net.py:45\u001b[39m, in \u001b[36m_get_data_from_jsoc\u001b[39m\u001b[34m(query, key, seg)\u001b[39m\n\u001b[32m     43\u001b[39m \u001b[38;5;28;01mif\u001b[39;00m \u001b[38;5;28mlen\u001b[39m(jsoc_result) == \u001b[32m0\u001b[39m:\n\u001b[32m     44\u001b[39m     msg = \u001b[33mf\u001b[39m\u001b[33m\"\u001b[39m\u001b[33mNo data found for this query: \u001b[39m\u001b[38;5;132;01m{\u001b[39;00mquery\u001b[38;5;132;01m}\u001b[39;00m\u001b[33m, key: \u001b[39m\u001b[38;5;132;01m{\u001b[39;00mkey\u001b[38;5;132;01m}\u001b[39;00m\u001b[33m, seg: \u001b[39m\u001b[38;5;132;01m{\u001b[39;00mseg\u001b[38;5;132;01m}\u001b[39;00m\u001b[33m\"\u001b[39m\n\u001b[32m---> \u001b[39m\u001b[32m45\u001b[39m     \u001b[38;5;28;01mraise\u001b[39;00m \u001b[38;5;167;01mRuntimeError\u001b[39;00m(msg)\n\u001b[32m     46\u001b[39m \u001b[38;5;28;01mreturn\u001b[39;00m jsoc_result\n",
      "\u001b[31mRuntimeError\u001b[39m: No data found for this query: aia.master_pointing3h[2024-11-03T12:15:09.000Z-2024-11-03T12:15:19.000Z], key: **ALL**, seg: None"
     ]
    }
   ],
   "source": [
    "from aiapy.calibrate.util import get_pointing_table\n",
    "from sunpy.time import TimeRange\n",
    "\n",
    "timerange = TimeRange('2024-11-03T12:15:09', '2024-11-03T12:15:19')\n",
    "pointing_table = get_pointing_table('jsoc', time_range=timerange)"
   ]
  },
  {
   "cell_type": "code",
   "execution_count": 16,
   "id": "3dc339e2",
   "metadata": {},
   "outputs": [],
   "source": [
    "amaps=sunpy.map.Map(ff)"
   ]
  },
  {
   "cell_type": "code",
   "execution_count": null,
   "id": "266f614b",
   "metadata": {},
   "outputs": [
    {
     "name": "stdout",
     "output_type": "stream",
     "text": [
      "(<Time object: scale='utc' format='isot' value=2024-11-03T12:15:09.350>, <Time object: scale='utc' format='isot' value=2024-11-03T12:15:18.810>)\n"
     ]
    }
   ],
   "source": [
    "times = [atime.Time(m.date) for m in amaps]\n",
    "time_range = [min(times), max(times)]\n",
    "print(time_range)"
   ]
  },
  {
   "cell_type": "code",
   "execution_count": 40,
   "id": "eb5750b5",
   "metadata": {},
   "outputs": [],
   "source": [
    "pointing_table = get_pointing_table(\"JSOC\", time_range=(time_range[0] - 12 * u.h, time_range[0] + 12 * u.h))"
   ]
  },
  {
   "cell_type": "code",
   "execution_count": 17,
   "id": "104328b0",
   "metadata": {},
   "outputs": [
    {
     "name": "stdout",
     "output_type": "stream",
     "text": [
      "[131, 171, 193, 211, 304, 335, 94]\n",
      "[6, 0, 1, 2, 3, 4, 5]\n",
      "[94, 131, 171, 193, 211, 304, 335]\n"
     ]
    }
   ],
   "source": [
    "# Get the wavelengths of the maps and get index of sort for this list of maps \n",
    "wvn0 = [m.meta['wavelnth'] for m in amaps]\n",
    "print(wvn0)\n",
    "srt_id = sorted(range(len(wvn0)), key=wvn0.__getitem__)\n",
    "print(srt_id)\n",
    "\n",
    "# And now can reorder them\n",
    "# OK to do it without creating new list as finding order and reordering in same cell\n",
    "amaps = [amaps[i] for i in srt_id]\n",
    "print([m.meta['wavelnth'] for m in amaps])"
   ]
  },
  {
   "cell_type": "code",
   "execution_count": 21,
   "id": "8476def2",
   "metadata": {},
   "outputs": [
    {
     "data": {
      "text/plain": [
       "[<sunpy.map.sources.sdo.AIAMap object at 0x7e428c22b770>\n",
       " SunPy Map\n",
       " ---------\n",
       " Observatory:\t\t SDO\n",
       " Instrument:\t\t AIA 4\n",
       " Detector:\t\t AIA\n",
       " Measurement:\t\t 94.0 Angstrom\n",
       " Wavelength:\t\t 94.0 Angstrom\n",
       " Observation Date:\t 2024-11-03 12:15:11\n",
       " Exposure Time:\t\t 2.902043 s\n",
       " Dimension:\t\t [4096. 4096.] pix\n",
       " Coordinate System:\t helioprojective\n",
       " Scale:\t\t\t [0.600109 0.600109] arcsec / pix\n",
       " Reference Pixel:\t [2069.474121 2006.181519] pix\n",
       " Reference Coord:\t [0. 0.] arcsec                   \n",
       " array([[ 0.  ,  0.  ,  1.  , ..., -0.75,  1.5 , -3.5 ],\n",
       "        [-1.75,  1.25, -1.  , ...,  0.75,  0.5 ,  1.75],\n",
       "        [-1.  , -0.75,  2.25, ...,  0.5 , -0.75, -2.25],\n",
       "        ...,\n",
       "        [ 2.25, -1.5 ,  0.  , ..., -0.75, -0.75,  1.5 ],\n",
       "        [ 1.  , -1.  ,  1.25, ...,  1.  ,  0.  , -0.75],\n",
       "        [-0.5 ,  0.  ,  0.25, ...,  1.75,  1.25,  1.25]],\n",
       "       shape=(4096, 4096), dtype=float32),\n",
       " <sunpy.map.sources.sdo.AIAMap object at 0x7e428c5e2e10>\n",
       " SunPy Map\n",
       " ---------\n",
       " Observatory:\t\t SDO\n",
       " Instrument:\t\t AIA 1\n",
       " Detector:\t\t AIA\n",
       " Measurement:\t\t 131.0 Angstrom\n",
       " Wavelength:\t\t 131.0 Angstrom\n",
       " Observation Date:\t 2024-11-03 12:15:18\n",
       " Exposure Time:\t\t 2.900809 s\n",
       " Dimension:\t\t [4096. 4096.] pix\n",
       " Coordinate System:\t helioprojective\n",
       " Scale:\t\t\t [0.600698 0.600698] arcsec / pix\n",
       " Reference Pixel:\t [2040.712646 2040.381104] pix\n",
       " Reference Coord:\t [0. 0.] arcsec                   \n",
       " array([[ 0., -3.,  2., ...,  0., -1.,  0.],\n",
       "        [-1.,  3.,  0., ...,  0.,  2., -1.],\n",
       "        [ 0., -1., -2., ...,  2.,  0.,  0.],\n",
       "        ...,\n",
       "        [-1., -1.,  0., ..., -1.,  0.,  0.],\n",
       "        [-1.,  0.,  1., ..., -1.,  0.,  1.],\n",
       "        [-1.,  1.,  1., ..., -1.,  1.,  0.]],\n",
       "       shape=(4096, 4096), dtype=float32),\n",
       " <sunpy.map.sources.sdo.AIAMap object at 0x7e428c311b50>\n",
       " SunPy Map\n",
       " ---------\n",
       " Observatory:\t\t SDO\n",
       " Instrument:\t\t AIA 3\n",
       " Detector:\t\t AIA\n",
       " Measurement:\t\t 171.0 Angstrom\n",
       " Wavelength:\t\t 171.0 Angstrom\n",
       " Observation Date:\t 2024-11-03 12:15:09\n",
       " Exposure Time:\t\t 1.999575 s\n",
       " Dimension:\t\t [4096. 4096.] pix\n",
       " Coordinate System:\t helioprojective\n",
       " Scale:\t\t\t [0.599489 0.599489] arcsec / pix\n",
       " Reference Pixel:\t [2055.237549 2046.887695] pix\n",
       " Reference Coord:\t [0. 0.] arcsec                   \n",
       " array([[-2.,  1.,  0., ..., -2.,  0.,  0.],\n",
       "        [ 1.,  1.,  0., ...,  1., -2.,  1.],\n",
       "        [-1.,  1.,  0., ..., -2., -1., -1.],\n",
       "        ...,\n",
       "        [-2.,  0., -1., ...,  0., -1., -1.],\n",
       "        [-1.,  0.,  0., ...,  1., -1.,  1.],\n",
       "        [ 0.,  0., -1., ...,  2., -1.,  0.]],\n",
       "       shape=(4096, 4096), dtype=float32),\n",
       " <sunpy.map.sources.sdo.AIAMap object at 0x7e428c37d4c0>\n",
       " SunPy Map\n",
       " ---------\n",
       " Observatory:\t\t SDO\n",
       " Instrument:\t\t AIA 2\n",
       " Detector:\t\t AIA\n",
       " Measurement:\t\t 193.0 Angstrom\n",
       " Wavelength:\t\t 193.0 Angstrom\n",
       " Observation Date:\t 2024-11-03 12:15:18\n",
       " Exposure Time:\t\t 0.574205 s\n",
       " Dimension:\t\t [4096. 4096.] pix\n",
       " Coordinate System:\t helioprojective\n",
       " Scale:\t\t\t [0.600714 0.600714] arcsec / pix\n",
       " Reference Pixel:\t [2039.552612 2041.127319] pix\n",
       " Reference Coord:\t [0. 0.] arcsec                   \n",
       " array([[-1.,  1.,  1., ...,  2.,  1., -1.],\n",
       "        [-1., -1.,  1., ..., -1., -2.,  0.],\n",
       "        [-1., -1.,  0., ...,  0., -1.,  0.],\n",
       "        ...,\n",
       "        [ 0.,  2., -1., ...,  2.,  0., -3.],\n",
       "        [ 1., -1., -3., ..., -2., -2.,  0.],\n",
       "        [ 0., -2.,  0., ..., -1.,  0.,  1.]],\n",
       "       shape=(4096, 4096), dtype=float32),\n",
       " <sunpy.map.sources.sdo.AIAMap object at 0x7e428c42f170>\n",
       " SunPy Map\n",
       " ---------\n",
       " Observatory:\t\t SDO\n",
       " Instrument:\t\t AIA 2\n",
       " Detector:\t\t AIA\n",
       " Measurement:\t\t 211.0 Angstrom\n",
       " Wavelength:\t\t 211.0 Angstrom\n",
       " Observation Date:\t 2024-11-03 12:15:09\n",
       " Exposure Time:\t\t 2.901193 s\n",
       " Dimension:\t\t [4096. 4096.] pix\n",
       " Coordinate System:\t helioprojective\n",
       " Scale:\t\t\t [0.600758 0.600758] arcsec / pix\n",
       " Reference Pixel:\t [2035.569458 2039.643188] pix\n",
       " Reference Coord:\t [0. 0.] arcsec                   \n",
       " array([[-2., -1.,  0., ...,  0.,  2.,  2.],\n",
       "        [-1.,  1.,  0., ...,  3.,  0.,  1.],\n",
       "        [-2.,  0.,  0., ..., -1.,  1.,  0.],\n",
       "        ...,\n",
       "        [ 0., -1.,  0., ...,  0.,  0.,  0.],\n",
       "        [-1., -2.,  0., ...,  1., -2.,  1.],\n",
       "        [-2.,  2.,  0., ..., -1.,  0., -1.]],\n",
       "       shape=(4096, 4096), dtype=float32),\n",
       " <sunpy.map.sources.sdo.AIAMap object at 0x7e428c37f500>\n",
       " SunPy Map\n",
       " ---------\n",
       " Observatory:\t\t SDO\n",
       " Instrument:\t\t AIA 4\n",
       " Detector:\t\t AIA\n",
       " Measurement:\t\t 304.0 Angstrom\n",
       " Wavelength:\t\t 304.0 Angstrom\n",
       " Observation Date:\t 2024-11-03 12:15:17\n",
       " Exposure Time:\t\t 2.90082 s\n",
       " Dimension:\t\t [4096. 4096.] pix\n",
       " Coordinate System:\t helioprojective\n",
       " Scale:\t\t\t [0.600165 0.600165] arcsec / pix\n",
       " Reference Pixel:\t [2066.877197 2004.588257] pix\n",
       " Reference Coord:\t [0. 0.] arcsec                   \n",
       " array([[ 0.,  0.,  2., ..., -2., -2.,  1.],\n",
       "        [-1.,  1., -1., ..., -2.,  1., -2.],\n",
       "        [-1.,  0.,  1., ..., -1.,  0., -2.],\n",
       "        ...,\n",
       "        [ 0.,  0., -2., ..., -1.,  2., -1.],\n",
       "        [ 0., -1., -1., ..., -2.,  0.,  0.],\n",
       "        [ 1.,  1.,  2., ..., -1.,  1.,  0.]],\n",
       "       shape=(4096, 4096), dtype=float32),\n",
       " <sunpy.map.sources.sdo.AIAMap object at 0x7e428cff2ba0>\n",
       " SunPy Map\n",
       " ---------\n",
       " Observatory:\t\t SDO\n",
       " Instrument:\t\t AIA 1\n",
       " Detector:\t\t AIA\n",
       " Measurement:\t\t 335.0 Angstrom\n",
       " Wavelength:\t\t 335.0 Angstrom\n",
       " Observation Date:\t 2024-11-03 12:15:12\n",
       " Exposure Time:\t\t 2.901309 s\n",
       " Dimension:\t\t [4096. 4096.] pix\n",
       " Coordinate System:\t helioprojective\n",
       " Scale:\t\t\t [0.600737 0.600737] arcsec / pix\n",
       " Reference Pixel:\t [2039.462891 2039.030273] pix\n",
       " Reference Coord:\t [0. 0.] arcsec                   \n",
       " array([[ 0.,  1.,  1., ..., -1.,  1.,  0.],\n",
       "        [-2.,  0., -1., ..., -1., -1.,  0.],\n",
       "        [ 0.,  1., -1., ...,  0.,  1., -2.],\n",
       "        ...,\n",
       "        [ 0.,  1.,  1., ..., -2.,  0.,  1.],\n",
       "        [-2.,  1.,  2., ...,  0., -2.,  0.],\n",
       "        [-1.,  0.,  1., ...,  2.,  2., -1.]],\n",
       "       shape=(4096, 4096), dtype=float32)]"
      ]
     },
     "execution_count": 21,
     "metadata": {},
     "output_type": "execute_result"
    }
   ],
   "source": [
    "amaps"
   ]
  },
  {
   "cell_type": "code",
   "execution_count": null,
   "id": "83cea2ba",
   "metadata": {},
   "outputs": [],
   "source": [
    "from datetime import timedelta\n",
    "from aiapy.calibrate import update_pointing, register\n",
    "from aiapy.calibrate.util import get_pointing_table  # <-- this fetches the table\n",
    "# (sometimes located at aiapy.util or aiapy.calibrate.util depending on version)\n",
    "# If the import above fails, try:\n",
    "# from aiapy.util import get_pointing_table\n",
    "\n",
    "# assume you already have `amaps` (list of sunpy.map.Map)\n",
    "\n",
    "# build a time range covering all your maps\n",
    "t0 = min(m.date for m in amaps)\n",
    "t1 = max(m.date for m in amaps) + timedelta(seconds=1)\n",
    "\n",
    "# fetch the AIA pointing table for that interval (downloads/caches from LMSAL)\n",
    "aprep = []\n",
    "for m in amaps:\n",
    "    m_tmp = update_pointing(m, pointing_table=pointing_table)\n",
    "    aprep.append(register(m_tmp))\n",
    "\n",
    "print([m.meta['wavelnth'] for m in aprep])\n"
   ]
  }
 ],
 "metadata": {
  "kernelspec": {
   "display_name": ".venv",
   "language": "python",
   "name": "python3"
  },
  "language_info": {
   "codemirror_mode": {
    "name": "ipython",
    "version": 3
   },
   "file_extension": ".py",
   "mimetype": "text/x-python",
   "name": "python",
   "nbconvert_exporter": "python",
   "pygments_lexer": "ipython3",
   "version": "3.12.3"
  }
 },
 "nbformat": 4,
 "nbformat_minor": 5
}
